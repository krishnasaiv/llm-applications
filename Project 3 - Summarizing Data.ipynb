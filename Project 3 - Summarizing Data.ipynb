{
 "cells": [
  {
   "cell_type": "code",
   "execution_count": 14,
   "id": "b646daff",
   "metadata": {},
   "outputs": [
    {
     "data": {
      "text/plain": [
       "True"
      ]
     },
     "execution_count": 14,
     "metadata": {},
     "output_type": "execute_result"
    }
   ],
   "source": [
    "import os\n",
    "from dotenv import load_dotenv, find_dotenv\n",
    "load_dotenv(find_dotenv(), override=True)"
   ]
  },
  {
   "cell_type": "markdown",
   "id": "8fab7d02",
   "metadata": {},
   "source": [
    "### Basic Summarization"
   ]
  },
  {
   "cell_type": "code",
   "execution_count": 7,
   "id": "0c626f9f",
   "metadata": {},
   "outputs": [
    {
     "name": "stdout",
     "output_type": "stream",
     "text": [
      "Number of Tokens: 239\n"
     ]
    }
   ],
   "source": [
    "from langchain.chat_models import ChatOpenAI\n",
    "from langchain.schema import(\n",
    "    AIMessage,\n",
    "    HumanMessage,\n",
    "    SystemMessage\n",
    ")\n",
    "\n",
    "text= \"\"\"\n",
    "\n",
    "In a sleepy coastal village, lived Sara, a young lighthouse keeper. \\\n",
    "For years, she dutifully maintained the lighthouse, but always felt a sense of loneliness. \\\n",
    "One stormy night, a ship appeared on the horizon, struggling against the mighty waves.\n",
    "\n",
    "Sara fired up the lighthouse beacon to guide the ship safely to shore. \\\n",
    "Miraculously, the ship made it, and the grateful crew credited Sara's timely intervention. \\\n",
    "Among them was Captain Alex, who was captivated not just by Sara’s bravery but also her sense of isolation \\\n",
    "that mirrored his own.\n",
    "\n",
    "Alex decided to leave his seafaring life and settled in the village, bringing along exotic tales \\\n",
    "and artifacts from far-off lands. Together, they transformed the lonely lighthouse into a fascinating museum, \\\n",
    "attracting villagers and tourists alike. The top of the lighthouse remained a beacon for ships, \\\n",
    "but its base became a beacon for curious minds.\n",
    "\n",
    "The museum thrived, and so did Sara and Alex's love for each other. \\\n",
    "Sara found companionship and a renewed sense of purpose, and Alex found a home he never knew he was seeking. \\\n",
    "They lived out their days sharing stories, love, and the light of knowledge.\n",
    "\n",
    "\"\"\"\n",
    "\n",
    "messages = [\n",
    "    SystemMessage(content='You are an expert copywriter with expertize in summarizing documents'),\n",
    "    HumanMessage(content=f'Please provide a short and concise summary of the following text:\\n TEXT: {text}')\n",
    "]\n",
    "\n",
    "llm = ChatOpenAI(temperature=0, model_name='gpt-3.5-turbo')\n",
    "\n",
    "print(f\"Number of Tokens: {llm.get_num_tokens(text)}\")\n"
   ]
  },
  {
   "cell_type": "code",
   "execution_count": 8,
   "id": "d6ea5528",
   "metadata": {},
   "outputs": [
    {
     "name": "stdout",
     "output_type": "stream",
     "text": [
      "Sara, a lonely lighthouse keeper, saves a ship in a storm and meets Captain Alex. They transform the lighthouse into a museum, finding love and purpose in the process. The museum thrives, and they live happily sharing stories and knowledge.\n"
     ]
    }
   ],
   "source": [
    "summary_output = llm(messages)\n",
    "print(summary_output.content)"
   ]
  },
  {
   "cell_type": "markdown",
   "id": "2e74f5f0",
   "metadata": {},
   "source": [
    "### Using Prompt Templates"
   ]
  },
  {
   "cell_type": "code",
   "execution_count": 9,
   "id": "b40afa96",
   "metadata": {
    "scrolled": true
   },
   "outputs": [
    {
     "name": "stdout",
     "output_type": "stream",
     "text": [
      "Number of Tokens: 239\n",
      "Choose a Topic:Andela\n",
      "Choose a Language:Yoruba\n",
      "Choose the length of output text:100\n",
      "----------------\n",
      "Summary:\n",
      " Andela is a company that trains and hires software developers from Africa. They provide a four-year program where developers learn and work on real projects for international clients. Andela aims to bridge the gap between talent and opportunity by connecting African developers with global companies. They have a rigorous selection process to ensure they hire the best candidates. Andela has offices in Nigeria, Kenya, Uganda, and Rwanda, and has trained thousands of developers since its inception. They believe that Africa has the potential to become a global tech hub and are committed to unlocking that potential. \n",
      "\n",
      "Yoruba translation: Andela ni owo-ori-ori ti o fẹ lati ko ati lati pese awọn oniruuru software lati Afrika. Nigba ti o ba ni awọn ọdun merin, awọn oniruuru yoo kọ awọn ọrọ-ọfẹ ati ṣiṣẹ ni awọn iṣẹ to dara fun awọn alabara ti o ni aaye niwaju. Andela nikan ni ti o fẹ lati ṣe alaye ni antẹ awọn alabara ati awọn aṣayan ti o ni aaye niwaju. Wọle ni Naijiria, Kenya, Uganda, ati Rwanda, ati ti o ni owo-ori-ori awọn oniruuru lati nigba ti o ti bẹrẹ. Wọn gbagbe pe Afrika ni o ni aṣẹ lati wa ni ibugbe ti o le ṣe agbegbe tech ni aaye ati wọn ni o ti ni iwa lati ṣe iranlọwọ.\n"
     ]
    }
   ],
   "source": [
    "from langchain import PromptTemplate\n",
    "from langchain.chains import LLMChain\n",
    "\n",
    "template = '''\n",
    "Write a concise and short summary of the following text:\n",
    "TEXT: `{text}` in `{n}` words.\n",
    "Translate the summary to {language}.\n",
    "'''\n",
    "prompt = PromptTemplate(\n",
    "    input_variables=['text', 'language', 'n'],\n",
    "    template=template\n",
    ")\n",
    "print(f\"Number of Tokens: {llm.get_num_tokens(text)}\")\n",
    "\n",
    "topic = input(\"Choose a Topic:\")\n",
    "language = input(\"Choose a Language:\")\n",
    "length = input(\"Choose the length of output text:\")\n",
    "\n",
    "chain = LLMChain(llm=llm, prompt=prompt)\n",
    "summary = chain.run({'text': topic, 'language':language, 'n': length})\n",
    "\n",
    "print(\"----------------\")\n",
    "print(\"Summary:\\n\", summary)"
   ]
  },
  {
   "cell_type": "markdown",
   "id": "1d60b55e",
   "metadata": {},
   "source": [
    "### Using SuffDocumentChain"
   ]
  },
  {
   "cell_type": "code",
   "execution_count": 10,
   "id": "647968e5",
   "metadata": {},
   "outputs": [],
   "source": [
    "from langchain import PromptTemplate\n",
    "from langchain.chat_models import ChatOpenAI\n",
    "from langchain.chains.summarize import load_summarize_chain\n",
    "from langchain.docstore.document import Document\n"
   ]
  },
  {
   "cell_type": "code",
   "execution_count": 11,
   "id": "da9e82a3",
   "metadata": {
    "scrolled": true
   },
   "outputs": [
    {
     "name": "stdout",
     "output_type": "stream",
     "text": [
      "Enter file path:cinderella.txt\n"
     ]
    }
   ],
   "source": [
    "with open(input(\"Enter file path:\"), encoding='utf-8') as f:\n",
    "    text = f.read()\n",
    "\n",
    "# text\n",
    "\n",
    "docs = [Document(page_content=text)]\n",
    "llm = ChatOpenAI(temperature=0, model_name='gpt-3.5-turbo')\n",
    "\n",
    "template = '''Write a concise and short summary of the following text.\n",
    "TEXT: `{text}`\n",
    "'''\n",
    "prompt = PromptTemplate(\n",
    "    input_variables=['text'],\n",
    "    template=template\n",
    ")"
   ]
  },
  {
   "cell_type": "code",
   "execution_count": 13,
   "id": "ea408f9d",
   "metadata": {},
   "outputs": [
    {
     "name": "stdout",
     "output_type": "stream",
     "text": [
      "The text tells the story of Cinderella, a young girl who is mistreated by her stepmother and stepsisters. Despite her difficult circumstances, Cinderella remains kind and helpful. With the help of her fairy godmother, she attends a royal ball and captures the attention of the prince. After a search for the owner of a lost glass slipper, Cinderella is revealed to be the mysterious princess and marries the prince. She forgives her stepsisters and they are given a place to live in the palace.\n"
     ]
    }
   ],
   "source": [
    "chain = load_summarize_chain(\n",
    "    llm,\n",
    "    chain_type='stuff',\n",
    "    prompt=prompt,\n",
    "    verbose=False\n",
    ")\n",
    "output_summary = chain.run(docs)\n",
    "\n",
    "print(output_summary)"
   ]
  },
  {
   "cell_type": "markdown",
   "id": "cb626999",
   "metadata": {},
   "source": [
    "### Using map_reduce ( Large Documents  )"
   ]
  },
  {
   "cell_type": "code",
   "execution_count": 10,
   "id": "9dcc4a20",
   "metadata": {},
   "outputs": [],
   "source": [
    "from langchain import PromptTemplate\n",
    "from langchain.chat_models import ChatOpenAI\n",
    "from langchain.chains.summarize import load_summarize_chain\n",
    "from langchain.text_splitter import RecursiveCharacterTextSplitter"
   ]
  },
  {
   "cell_type": "code",
   "execution_count": 15,
   "id": "1187c1b1",
   "metadata": {
    "scrolled": true
   },
   "outputs": [
    {
     "name": "stdout",
     "output_type": "stream",
     "text": [
      "Enter file path:cinderella.txt\n",
      "Num Tokens: 3078\n",
      "Num Chunks: 4\n"
     ]
    }
   ],
   "source": [
    "with open(input(\"Enter file path:\"), encoding='utf-8') as f:\n",
    "    text = f.read()\n",
    "\n",
    "llm = ChatOpenAI(temperature=0, model_name='gpt-3.5-turbo')\n",
    "print(f\"Num Tokens: {llm.get_num_tokens(text)}\")\n",
    "\n",
    "text_splitter = RecursiveCharacterTextSplitter(chunk_size=4000, chunk_overlap=400)\n",
    "chunks = text_splitter.create_documents([text])\n",
    "print(f\"Num Chunks: {len(chunks)}\")"
   ]
  },
  {
   "cell_type": "code",
   "execution_count": 16,
   "id": "595e25ad",
   "metadata": {
    "scrolled": true
   },
   "outputs": [
    {
     "name": "stdout",
     "output_type": "stream",
     "text": [
      "Cinderella, mistreated by her stepmother and stepsisters, attends a ball with the help of her fairy godmother. She captivates the King's son but leaves abruptly, leaving behind a glass slipper. The prince announces he will marry the girl whose foot fits the slipper. Cinderella's stepsisters fail, but Cinderella fits perfectly. She forgives her stepsisters and marries the prince.\n"
     ]
    }
   ],
   "source": [
    "chain = load_summarize_chain(\n",
    "    llm,\n",
    "    chain_type='map_reduce',\n",
    "    verbose=False\n",
    ")\n",
    "output_summary = chain.run(chunks)\n",
    "print(output_summary)"
   ]
  },
  {
   "cell_type": "markdown",
   "id": "0f966117",
   "metadata": {},
   "source": [
    "### map_reduce wich Custom Prompts"
   ]
  },
  {
   "cell_type": "code",
   "execution_count": 19,
   "id": "d72905e7",
   "metadata": {},
   "outputs": [],
   "source": [
    "map_prompt = '''\n",
    "Write a short and concise summary of the following:\n",
    "Text: `{text}`\n",
    "CONCISE SUMMARY:\n",
    "'''\n",
    "map_prompt_template = PromptTemplate(\n",
    "    input_variables=['text'],\n",
    "    template=map_prompt\n",
    ")\n",
    "\n",
    "combine_prompt = '''\n",
    "Write a concise summary of the following text that covers the key points. These are summaries from the map step, so every detail is important.\n",
    "Add a title to the summary.\n",
    "Start your summary with an INTRODUCTION PARAGRAPH that gives an overview of the topic FOLLOWED\n",
    "by BULLET POINTS if possible AND end the summary with a CONCLUSION PHRASE.\n",
    "Text: `{text}`\n",
    "'''\n",
    "combine_prompt_template = PromptTemplate(template=combine_prompt, input_variables=['text'])"
   ]
  },
  {
   "cell_type": "code",
   "execution_count": 21,
   "id": "82f0f69c",
   "metadata": {
    "scrolled": true
   },
   "outputs": [
    {
     "name": "stdout",
     "output_type": "stream",
     "text": [
      "\n",
      "\n",
      "\u001b[1m> Entering new MapReduceDocumentsChain chain...\u001b[0m\n",
      "\n",
      "\n",
      "\u001b[1m> Entering new LLMChain chain...\u001b[0m\n",
      "Prompt after formatting:\n",
      "\u001b[32;1m\u001b[1;3m\n",
      "Write a short and concise summary of the following:\n",
      "Text: `ONCE there was a gentleman who married, for his second wife, the proudest and most haughty woman that was ever seen. She had, by a former husband, two daughters of her own humor, who were, indeed, exactly like her in all things. He had likewise, by another wife, a young daughter, but of unparalleled goodness and sweetness of temper, which she took from her mother, who was the best creature in the world.\n",
      "\n",
      "No sooner were the ceremonies of the wedding over but the mother-in-law began to show herself in her true colors. She could not bear the good qualities of this pretty girl, and the less because they made her own daughters appear the more odious. She employed her in the meanest work of the house: she scoured the dishes, tables, etc., and scrubbed madam's chamber, and those of misses, her daughters; she lay up in a sorry garret, upon a wretched straw bed, while her sisters lay in fine rooms, with floors all inlaid, upon beds of the very newest fashion, and where they had looking-glasses so large that they might see themselves at their full length from head to foot.\n",
      "\n",
      "The poor girl bore all patiently, and dared not tell her father, who would have rattled her off; for his wife governed him entirely. When she had done her work, she used to go into the chimney-corner, and sit down among cinders and ashes, which made her commonly be called Cinderwench; but the youngest, who was not so rude and uncivil as the eldest, called her Cinderella. However, Cinderella, notwithstanding her mean apparel, was a hundred times handsomer than her sisters, though they were always dressed very richly.\n",
      "\n",
      "It happened that the King's son gave a ball, and invited all persons of fashion to it. Our young misses were also invited, for they cut a very grand figure among the quality. They were mightily delighted at this invitation, and wonderfully busy in choosing out such gowns, petticoats, and head-clothes as might become them. This was a new trouble to Cinderella; for it was she who ironed her sisters' linen, and plaited their ruffles; they talked all day long of nothing but how they should be dressed.\n",
      "\n",
      "\"For my part,\" said the eldest, \"I will wear my red velvet suit with French trimming.\"\n",
      "\n",
      "\"And I,\" said the youngest, \"shall have my usual petticoat; but then, to make amends for that, I will put on my gold-flowered manteau, and my diamond stomacher, which is far from being the most ordinary one in the world.\"\n",
      "They sent for the best tire-woman they could get to make up their head-dresses and adjust their double pinners, and they had their red brushes and patches from Mademoiselle de la Poche.\n",
      "\n",
      "Cinderella was likewise called up to them to be consulted in all these matters, for she had excellent notions, and advised them always for the best, nay, and offered her services to dress their heads, which they were very willing she should do. As she was doing this, they said to her:\n",
      "\n",
      "\"Cinderella, would you not be glad to go to the ball?\"\n",
      "\n",
      "\"Alas!\" said she, \"you only jeer me; it is not for such as I am to go thither.\"\n",
      "\"Thou art in the right of it,\" replied they; \"it would make the people laugh to see a Cinderwench at a ball.\"\n",
      "\n",
      "Anyone but Cinderella would have dressed their heads awry, but she was very good, and dressed them perfectly well They were almost two days without eating, so much were they transported with joy. They broke above a dozen laces in trying to be laced up close, that they might have a fine slender shape, and they were continually at their looking-glass. At last the happy day came; they went to Court, and Cinderella followed them with her eyes as long as she could, and when she had lost sight of them, she fell a-crying.\n",
      "\n",
      "Her godmother, who saw her all in tears, asked her what was the matter.\n",
      "\"I wish I could--I wish I could--\"; she was not able to speak the rest, being interrupted by her tears and sobbing.\n",
      "\n",
      "This godmother of hers, who was a fairy, said to her, \"Thou wishest thou couldst go to the ball; is it not so?\"`\n",
      "CONCISE SUMMARY:\n",
      "\u001b[0m\n",
      "Prompt after formatting:\n",
      "\u001b[32;1m\u001b[1;3m\n",
      "Write a short and concise summary of the following:\n",
      "Text: `Her godmother, who saw her all in tears, asked her what was the matter.\n",
      "\"I wish I could--I wish I could--\"; she was not able to speak the rest, being interrupted by her tears and sobbing.\n",
      "\n",
      "This godmother of hers, who was a fairy, said to her, \"Thou wishest thou couldst go to the ball; is it not so?\"\n",
      "\n",
      "\"Y--es,\" cried Cinderella, with a great sigh.\n",
      "\n",
      "\"Well,\" said her godmother, \"be but a good girl, and I will contrive that thou shalt go.\" Then she took her into her chamber, and said to her, \"Run into the garden, and bring me a pumpkin.\"\n",
      "\n",
      "Cinderella went immediately to gather the finest she could get, and brought it to her godmother, not being able to imagine how this pumpkin could make her go to the ball. Her godmother scooped out all the inside of it, having left nothing but the rind; which done, she struck it with her wand, and the pumpkin was instantly turned into a fine coach, gilded all over with gold.\n",
      "\n",
      "She then went to look into her mouse-trap, where she found six mice, all alive, and ordered Cinderella to lift up a little the trapdoor, when, giving each mouse, as it went out, a little tap with her wand, the mouse was that moment turned into a fine horse, which altogether made a very fine set of six horses of a beautiful mouse-colored dapple-gray. Being at a loss for a coachman,\n",
      "\n",
      "\"I will go and see,\" says Cinderella, \"if there is never a rat in the rat-trap--we may make a coachman of him.\"\n",
      "\n",
      "\"Thou art in the right,\" replied her godmother; \"go and look.\"\n",
      "\n",
      "Cinderella brought the trap to her, and in it there were three huge rats. The fairy made choice of one of the three which had the largest beard, and, having touched him with her wand, he was turned into a fat, jolly coach- man, who had the smartest whiskers eyes ever beheld. After that, she said to her:\n",
      "\n",
      "\"Go again into the garden, and you will find six lizards behind the watering-pot, bring them to me.\"\n",
      "\n",
      "She had no sooner done so but her godmother turned them into six footmen, who skipped up immediately behind the coach, with their liveries all bedaubed with gold and silver, and clung as close behind each other as if they had done nothing else their whole lives. The Fairy then said to Cinderella:\n",
      "\n",
      "\"Well, you see here an equipage fit to go to the ball with; are you not pleased with it?\"\n",
      "\n",
      "\"Oh! yes,\" cried she; \"but must I go thither as I am, in these nasty rags?\"\n",
      "\n",
      "Her godmother only just touched her with her wand, and, at the same instant, her clothes were turned into cloth of gold and silver, all beset with jewels. This done, she gave her a pair of glass slippers, the prettiest in the whole world. Being thus decked out, she got up into her coach; but her godmother, above all things, commanded her not to stay till after midnight, telling her, at the same time, that if she stayed one moment longer, the coach would be a pumpkin again, her horses mice, her coachman a rat, her footmen lizards, and her clothes become just as they were before.\n",
      "\n",
      "She promised her godmother she would not fail of leaving the ball before midnight; and then away she drives, scarce able to contain herself for joy. The King's son who was told that a great princess, whom nobody knew, was come, ran out to receive her; he gave her his hand as she alighted out of the coach, and led her into the ball, among all the company. There was immediately a profound silence, they left off dancing, and the violins ceased to play, so attentive was everyone to contemplate the singular beauties of the unknown new-comer. Nothing was then heard but a confused noise of:\n",
      "\n",
      "\"Ha! how handsome she is! Ha! how handsome she is!\"\n",
      "\n",
      "The King himself, old as he was, could not help watching her, and telling the Queen softly that it was a long time since he had seen so beautiful and lovely a creature.\n",
      "\n",
      "All the ladies were busied in considering her clothes and headdress, that they might have some made next day after the same pattern, provided they could meet with such fine material and as able hands to make them.`\n",
      "CONCISE SUMMARY:\n",
      "\u001b[0m\n",
      "Prompt after formatting:\n",
      "\u001b[32;1m\u001b[1;3m\n",
      "Write a short and concise summary of the following:\n",
      "Text: `The King himself, old as he was, could not help watching her, and telling the Queen softly that it was a long time since he had seen so beautiful and lovely a creature.\n",
      "\n",
      "All the ladies were busied in considering her clothes and headdress, that they might have some made next day after the same pattern, provided they could meet with such fine material and as able hands to make them.\n",
      "\n",
      "The King's son conducted her to the most honorable seat, and afterward took her out to dance with him; she danced so very gracefully that they all more and more admired her. A fine collation was served up, whereof the young prince ate not a morsel, so intently was he busied in gazing on her.\n",
      "\n",
      "She went and sat down by her sisters, showing them a thousand civilities, giving them part of the oranges and citrons which the Prince had presented her with, which very much surprised them, for they did not know her. While Cinderella was thus amusing her sisters, she heard the clock strike eleven and three-quarters, whereupon she immediately made a courtesy to the company and hasted away as fast as she could.\n",
      "When she got home she ran to seek out her godmother, and, after having thanked her, she said she could not but heartily wish she might go next day to the ball, because the King's son had desired her.\n",
      "\n",
      "As she was eagerly telling her godmother whatever had passed at the ball, her two sisters knocked at the door, which Cinderella ran and opened.\n",
      "\n",
      "\"How long you have stayed!\" cried she, gaping, rubbing her eyes and stretching herself as if she had been just waked out of her sleep; she had not, however, any manner of inclination to sleep since they went from home.\n",
      "\n",
      "\"If thou hadst been at the ball,\" said one of her sisters, \"thou wouldst not have been tired with it. There came thither the finest princess, the most beautiful ever was seen with mortal eyes; she showed us a thousand civilities, and gave us oranges and citrons.\"\n",
      "\n",
      "Cinderella seemed very indifferent in the matter; indeed, she asked them the name of that princess; but they told her they did not know it, and that the King's son was very uneasy on her account and would give all the world to know who she was. At this Cinderella, smiling, replied:\n",
      "\n",
      "\"She must, then, be very beautiful indeed; how happy you have been! Could not I see her? Ah! dear Miss Charlotte, do lend me your yellow suit of clothes which you wear every day.\"\n",
      "\n",
      "\"Ay, to be sure!\" cried Miss Charlotte; \"lend my clothes to such a dirty Cinderwench as thou art! I should be a fool.\"\n",
      "\n",
      "Cinderella, indeed, expected well such answer, and was very glad of the refusal; for she would have been sadly put to it if her sister had lent her what she asked for jestingly.\n",
      "\n",
      "The next day the two sisters were at the ball, and so was Cinderella, but dressed more magnificently than before. The King's son was always by her, and never ceased his compliments and kind speeches to her; to whom all this was so far from being tiresome that she quite forgot what her godmother had recommended to her; so that she, at last, counted the clock striking twelve when she took it to be no more than eleven; she then rose up and fled, as nimble as a deer. The Prince followed, but could not overtake her. She left behind one of her glass slippers, which the Prince took up most carefully. She got home but quite out of breath, and in her nasty old clothes, having nothing left her of all her finery but one of the little slippers, fellow to that she dropped. The guards at the palace gate were asked:\n",
      "\n",
      "If they had not seen a princess go out.\n",
      "\n",
      "Who said: They had seen nobody go out but a young girl, very meanly dressed, and who had more the air of a poor country wench than a gentlewoman.\n",
      "\n",
      "When the two sisters returned from the ball Cinderella asked them: If they had been well diverted, and if the fine lady had been there.`\n",
      "CONCISE SUMMARY:\n",
      "\u001b[0m\n",
      "Prompt after formatting:\n",
      "\u001b[32;1m\u001b[1;3m\n",
      "Write a short and concise summary of the following:\n",
      "Text: `If they had not seen a princess go out.\n",
      "\n",
      "Who said: They had seen nobody go out but a young girl, very meanly dressed, and who had more the air of a poor country wench than a gentlewoman.\n",
      "\n",
      "When the two sisters returned from the ball Cinderella asked them: If they had been well diverted, and if the fine lady had been there.\n",
      "\n",
      "They told her: Yes, but that she hurried away immediately when it struck twelve, and with so much haste that she dropped one of her little glass slippers, the prettiest in the world, which the King's son had taken up; that he had done nothing but look at her all the time at the ball, and that most certainly he was very much in love with the beautiful person who owned the glass slipper.\n",
      "\n",
      "What they said was very true; for a few days after the King's son caused it to be proclaimed, by sound of trumpet, that he would marry her whose foot the slipper would just fit. They whom he employed began to try it upon the princesses, then the duchesses and all the Court, but in vain; it was brought to the two sisters, who did all they possibly could to thrust their foot into the slipper, but they could not effect it. Cinderella, who saw all this, and knew her slipper, said to them, laughing:\n",
      "\n",
      "\"Let me see if it will not fit me.\"\n",
      "\n",
      "Her sisters burst out a-laughing, and began to banter her. The gentleman who was sent to try the slipper looked earnestly at Cinderella, and, finding her very handsome, said:\n",
      "\n",
      "It was but just that she should try, and that he had orders to let everyone make trial.\n",
      "\n",
      "He obliged Cinderella to sit down, and, putting the slipper to her foot, he found it went on very easily, and fitted her as if it had been made of wax. The astonishment her two sisters were in was excessively great, but still abundantly greater when Cinderella pulled out of her pocket the other slipper, and put it on her foot. Thereupon, in came her godmother, who, having touched with her wand Cinderella's clothes, made them richer and more magnificent than any of those she had before.\n",
      "\n",
      "And now her two sisters found her to be that fine, beautiful lady whom they had seen at the ball. They threw themselves at her feet to beg pardon for all the ill- treatment they had made her undergo. Cinderella took them up, and, as she embraced them, cried:\n",
      "\n",
      "That she forgave them with all her heart, and desired them always to love her.\n",
      "\n",
      "She was conducted to the young prince, dressed as she was; he thought her more charming than ever, and, a few days after, married her. Cinderella, who was no less good than beautiful, gave her two sisters lodgings in the palace.`\n",
      "CONCISE SUMMARY:\n",
      "\u001b[0m\n"
     ]
    },
    {
     "name": "stdout",
     "output_type": "stream",
     "text": [
      "\n",
      "\u001b[1m> Finished chain.\u001b[0m\n",
      "\n",
      "\n",
      "\u001b[1m> Entering new LLMChain chain...\u001b[0m\n",
      "Prompt after formatting:\n",
      "\u001b[32;1m\u001b[1;3m\n",
      "Write a concise summary of the following text that covers the key points. These are summaries from the map step, so every detail is important.\n",
      "Add a title to the summary.\n",
      "Start your summary with an INTRODUCTION PARAGRAPH that gives an overview of the topic FOLLOWED\n",
      "by BULLET POINTS if possible AND end the summary with a CONCLUSION PHRASE.\n",
      "Text: `Once there was a gentleman who married a proud and haughty woman. She treated her stepdaughter, Cinderella, poorly and made her do all the housework while her own daughters lived in luxury. When the King's son invited everyone to a ball, Cinderella's stepsisters were excited and spent a lot of time getting ready. Cinderella wished she could go too, but her stepsisters mocked her. Cinderella's fairy godmother appeared and asked her what was wrong, and Cinderella admitted she wanted to go to the ball.\n",
      "\n",
      "Cinderella's godmother, who is a fairy, offers to help her go to the ball. She turns a pumpkin into a golden coach, mice into horses, a rat into a coachman, and lizards into footmen. Cinderella's rags are transformed into a beautiful gown and she is given glass slippers. She attends the ball and captivates everyone with her beauty.\n",
      "\n",
      "Cinderella attends a ball and captivates the King and his son with her beauty and grace. She leaves abruptly at midnight, leaving behind a glass slipper. The Prince tries to find her but is unsuccessful. Cinderella returns home in her old clothes, with only one glass slipper remaining. Her sisters return from the ball and Cinderella asks if the beautiful lady was there.\n",
      "\n",
      "Cinderella's sisters tell her that a princess had attended the ball and left in a hurry, dropping a glass slipper. The prince announces that he will marry the woman whose foot fits the slipper. Cinderella's sisters try but fail to fit into the slipper. Cinderella tries it on and it fits perfectly. Her godmother appears and makes her clothes more magnificent. Her sisters apologize and Cinderella forgives them. She marries the prince and her sisters live in the palace.`\n",
      "\u001b[0m\n",
      "\n",
      "\u001b[1m> Finished chain.\u001b[0m\n",
      "\n",
      "\u001b[1m> Finished chain.\u001b[0m\n",
      "Title: Cinderella's Transformation and Happily Ever After\n",
      "\n",
      "Introduction:\n",
      "This text tells the story of Cinderella, a young girl mistreated by her stepmother and stepsisters, who is given the opportunity to attend a royal ball with the help of her fairy godmother.\n",
      "\n",
      "Key Points:\n",
      "- Cinderella's stepmother and stepsisters treat her poorly and make her do all the housework.\n",
      "- The King's son invites everyone to a ball, and Cinderella's stepsisters are excited while mocking her.\n",
      "- Cinderella's fairy godmother appears and offers to help her go to the ball.\n",
      "- The fairy godmother transforms a pumpkin into a golden coach, mice into horses, a rat into a coachman, and lizards into footmen.\n",
      "- Cinderella's rags are transformed into a beautiful gown, and she is given glass slippers.\n",
      "- Cinderella attends the ball and captivates everyone with her beauty and grace.\n",
      "- She leaves abruptly at midnight, leaving behind a glass slipper.\n",
      "- The Prince tries to find her but is unsuccessful.\n",
      "- Cinderella returns home in her old clothes with one glass slipper remaining.\n",
      "- Her sisters inform her that a princess attended the ball and left a glass slipper behind.\n",
      "- The Prince announces that he will marry the woman whose foot fits the slipper.\n",
      "- Cinderella's sisters fail to fit into the slipper, but Cinderella tries it on and it fits perfectly.\n",
      "- Her fairy godmother appears again and makes her clothes more magnificent.\n",
      "- Cinderella forgives her sisters, marries the prince, and her sisters live in the palace.\n",
      "\n",
      "Conclusion:\n",
      "Cinderella's transformation from a mistreated stepdaughter to a beautiful princess is made possible by her fairy godmother, leading to her happily ever after with the prince.\n"
     ]
    }
   ],
   "source": [
    "summary_chain = load_summarize_chain(\n",
    "    llm=llm,\n",
    "    chain_type='map_reduce',\n",
    "    map_prompt=map_prompt_template,\n",
    "    combine_prompt=combine_prompt_template,\n",
    "    verbose=True\n",
    ")\n",
    "output = summary_chain.run(chunks)\n",
    "print(output)"
   ]
  },
  {
   "cell_type": "markdown",
   "id": "20c5b0dc",
   "metadata": {},
   "source": [
    "### Summarizing Using the refine Chain"
   ]
  },
  {
   "cell_type": "code",
   "execution_count": 62,
   "id": "9cce0f56",
   "metadata": {},
   "outputs": [],
   "source": [
    "from langchain.chat_models import ChatOpenAI\n",
    "from langchain import PromptTemplate\n",
    "from langchain.docstore.document import Document  \n",
    "from langchain.chains.summarize import load_summarize_chain\n",
    "from langchain.text_splitter import RecursiveCharacterTextSplitter, CharacterTextSplitter\n",
    "from langchain.document_loaders import UnstructuredPDFLoader"
   ]
  },
  {
   "cell_type": "code",
   "execution_count": 83,
   "id": "c9b1249f",
   "metadata": {
    "scrolled": true
   },
   "outputs": [
    {
     "data": {
      "text/plain": [
       "8960"
      ]
     },
     "execution_count": 83,
     "metadata": {},
     "output_type": "execute_result"
    }
   ],
   "source": [
    "from PyPDF2 import PdfReader\n",
    "\n",
    "doc = PdfReader('The Selfish Giant.pdf')\n",
    "text = \"\"\n",
    "for page in doc.pages:\n",
    "    text += page.extract_text()\n",
    "len(text)"
   ]
  },
  {
   "cell_type": "code",
   "execution_count": 86,
   "id": "62c5f5d1",
   "metadata": {
    "scrolled": true
   },
   "outputs": [
    {
     "data": {
      "text/plain": [
       "5"
      ]
     },
     "execution_count": 86,
     "metadata": {},
     "output_type": "execute_result"
    }
   ],
   "source": [
    "text_splitter = RecursiveCharacterTextSplitter(chunk_size=2000, chunk_overlap=200)\n",
    "chunks = text_splitter.split_text(text)\n",
    "\n",
    "chunks = [Document(page_content=chunks[0], metadata={\"source\": \"local\"}) for chunk in chunks] \n",
    "len(chunks)"
   ]
  },
  {
   "cell_type": "code",
   "execution_count": 88,
   "id": "7d626857",
   "metadata": {
    "scrolled": true
   },
   "outputs": [
    {
     "name": "stdout",
     "output_type": "stream",
     "text": [
      "Total Tokens: 2340\n",
      "Embedding Cost in USD: 0.004680\n"
     ]
    }
   ],
   "source": [
    "def print_embedding_cost(texts):\n",
    "    import tiktoken\n",
    "    enc = tiktoken.encoding_for_model('gpt-3.5-turbo')\n",
    "    total_tokens = sum([len(enc.encode(page.page_content)) for page in texts])\n",
    "    print(f'Total Tokens: {total_tokens}')\n",
    "    print(f'Embedding Cost in USD: {total_tokens / 1000 * 0.002:.6f}')\n",
    "    \n",
    "    \n",
    "print_embedding_cost(chunks)"
   ]
  },
  {
   "cell_type": "code",
   "execution_count": 89,
   "id": "ff6bb943",
   "metadata": {
    "scrolled": true
   },
   "outputs": [
    {
     "name": "stdout",
     "output_type": "stream",
     "text": [
      "\n",
      "\n",
      "\u001b[1m> Entering new RefineDocumentsChain chain...\u001b[0m\n",
      "\n",
      "\n",
      "\u001b[1m> Entering new LLMChain chain...\u001b[0m\n",
      "Prompt after formatting:\n",
      "\u001b[32;1m\u001b[1;3mWrite a concise summary of the following:\n",
      "\n",
      "\n",
      "\"The Selfish Giant by Oscar Wilde  \n",
      " \n",
      "Every afternoon, as they were coming from school, the children \n",
      "used to go and play in the Giant's garden.  \n",
      "     It was a large lovely garden, with soft green grass. Here and there \n",
      "over the grass stood beautiful flowers like stars, and there were twelve \n",
      "peach -trees that in the spring -time broke out into delicate blossoms of \n",
      "pink and pearl, and in the autumn bore rich fruit. The birds sat on the \n",
      "trees and sang so sweetly that the children used to stop their games in \n",
      "order to listen to them. 'How happy we are here!' they cried to each other.  \n",
      "     One day the Giant came back. He had been to visit his friend the \n",
      "Cornish ogre, and had stayed with him for seven years. After the seven \n",
      "years were  over he had said all that he had to say, for his conversation \n",
      "was limited, and he determined to return to his own castle. When he \n",
      "arrived he saw the children playing in the garden.  \n",
      "     'What are you doing here?' he cried in a very gruff voice, and the \n",
      "children ran away.  \n",
      "     'My own garden is my own garden,' said the Giant; 'any one can \n",
      "understand that, and I will allow nobody to play in it but myself.' So he \n",
      "built a high wall all round it, and put up a notice -board.  \n",
      "  \n",
      "TRESPASSERS  \n",
      "WILL BE  \n",
      "PROSECUTED  \n",
      "  \n",
      "     He was a very selfish Giant.  \n",
      "     The poor children had now nowhere to play. They tried to play on the \n",
      "road, but the road was very dusty and full of hard stones, and they did not \n",
      "like it. They used to wander round the high wall when their lessons we re \n",
      "over, and talk about the beautiful garden inside.  \n",
      "     'How happy we were there,' they said to each other.       Then the Spring came, and all over the country there were little \n",
      "blossoms and little birds. Only in the garden of the Selfish Giant it was still \n",
      "Winter. The birds did not care to sing in it as there were no children, and \n",
      "the trees forgot to blossom. Once a beautiful flower put its head out from\"\n",
      "\n",
      "\n",
      "CONCISE SUMMARY:\u001b[0m\n",
      "\n",
      "\u001b[1m> Finished chain.\u001b[0m\n",
      "\n",
      "\n",
      "\u001b[1m> Entering new LLMChain chain...\u001b[0m\n",
      "Prompt after formatting:\n",
      "\u001b[32;1m\u001b[1;3mYour job is to produce a final summary\n",
      "We have provided an existing summary up to a certain point: \"The Selfish Giant\" by Oscar Wilde is a story about a giant who builds a high wall around his garden, preventing children from playing in it. As a result, the garden becomes desolate and stuck in winter while the rest of the country experiences spring.\n",
      "We have the opportunity to refine the existing summary(only if needed) with some more context below.\n",
      "------------\n",
      "The Selfish Giant by Oscar Wilde  \n",
      " \n",
      "Every afternoon, as they were coming from school, the children \n",
      "used to go and play in the Giant's garden.  \n",
      "     It was a large lovely garden, with soft green grass. Here and there \n",
      "over the grass stood beautiful flowers like stars, and there were twelve \n",
      "peach -trees that in the spring -time broke out into delicate blossoms of \n",
      "pink and pearl, and in the autumn bore rich fruit. The birds sat on the \n",
      "trees and sang so sweetly that the children used to stop their games in \n",
      "order to listen to them. 'How happy we are here!' they cried to each other.  \n",
      "     One day the Giant came back. He had been to visit his friend the \n",
      "Cornish ogre, and had stayed with him for seven years. After the seven \n",
      "years were  over he had said all that he had to say, for his conversation \n",
      "was limited, and he determined to return to his own castle. When he \n",
      "arrived he saw the children playing in the garden.  \n",
      "     'What are you doing here?' he cried in a very gruff voice, and the \n",
      "children ran away.  \n",
      "     'My own garden is my own garden,' said the Giant; 'any one can \n",
      "understand that, and I will allow nobody to play in it but myself.' So he \n",
      "built a high wall all round it, and put up a notice -board.  \n",
      "  \n",
      "TRESPASSERS  \n",
      "WILL BE  \n",
      "PROSECUTED  \n",
      "  \n",
      "     He was a very selfish Giant.  \n",
      "     The poor children had now nowhere to play. They tried to play on the \n",
      "road, but the road was very dusty and full of hard stones, and they did not \n",
      "like it. They used to wander round the high wall when their lessons we re \n",
      "over, and talk about the beautiful garden inside.  \n",
      "     'How happy we were there,' they said to each other.       Then the Spring came, and all over the country there were little \n",
      "blossoms and little birds. Only in the garden of the Selfish Giant it was still \n",
      "Winter. The birds did not care to sing in it as there were no children, and \n",
      "the trees forgot to blossom. Once a beautiful flower put its head out from\n",
      "------------\n",
      "Given the new context, refine the original summary\n",
      "If the context isn't useful, return the original summary.\u001b[0m\n",
      "\n",
      "\u001b[1m> Finished chain.\u001b[0m\n",
      "\n",
      "\n",
      "\u001b[1m> Entering new LLMChain chain...\u001b[0m\n",
      "Prompt after formatting:\n",
      "\u001b[32;1m\u001b[1;3mYour job is to produce a final summary\n",
      "We have provided an existing summary up to a certain point: \"The Selfish Giant\" by Oscar Wilde is a story about a giant who builds a high wall around his garden, preventing children from playing in it. As a result, the garden becomes desolate and stuck in winter while the rest of the country experiences spring. The children used to play in the giant's garden every afternoon, enjoying the beautiful flowers and trees. However, when the giant returns from a seven-year absence, he selfishly forbids anyone from entering his garden and builds a high wall with a warning sign. The children are left with nowhere to play and long for the happiness they once had in the garden. Meanwhile, the rest of the country experiences the arrival of spring, but the giant's garden remains stuck in winter.\n",
      "We have the opportunity to refine the existing summary(only if needed) with some more context below.\n",
      "------------\n",
      "The Selfish Giant by Oscar Wilde  \n",
      " \n",
      "Every afternoon, as they were coming from school, the children \n",
      "used to go and play in the Giant's garden.  \n",
      "     It was a large lovely garden, with soft green grass. Here and there \n",
      "over the grass stood beautiful flowers like stars, and there were twelve \n",
      "peach -trees that in the spring -time broke out into delicate blossoms of \n",
      "pink and pearl, and in the autumn bore rich fruit. The birds sat on the \n",
      "trees and sang so sweetly that the children used to stop their games in \n",
      "order to listen to them. 'How happy we are here!' they cried to each other.  \n",
      "     One day the Giant came back. He had been to visit his friend the \n",
      "Cornish ogre, and had stayed with him for seven years. After the seven \n",
      "years were  over he had said all that he had to say, for his conversation \n",
      "was limited, and he determined to return to his own castle. When he \n",
      "arrived he saw the children playing in the garden.  \n",
      "     'What are you doing here?' he cried in a very gruff voice, and the \n",
      "children ran away.  \n",
      "     'My own garden is my own garden,' said the Giant; 'any one can \n",
      "understand that, and I will allow nobody to play in it but myself.' So he \n",
      "built a high wall all round it, and put up a notice -board.  \n",
      "  \n",
      "TRESPASSERS  \n",
      "WILL BE  \n",
      "PROSECUTED  \n",
      "  \n",
      "     He was a very selfish Giant.  \n",
      "     The poor children had now nowhere to play. They tried to play on the \n",
      "road, but the road was very dusty and full of hard stones, and they did not \n",
      "like it. They used to wander round the high wall when their lessons we re \n",
      "over, and talk about the beautiful garden inside.  \n",
      "     'How happy we were there,' they said to each other.       Then the Spring came, and all over the country there were little \n",
      "blossoms and little birds. Only in the garden of the Selfish Giant it was still \n",
      "Winter. The birds did not care to sing in it as there were no children, and \n",
      "the trees forgot to blossom. Once a beautiful flower put its head out from\n",
      "------------\n",
      "Given the new context, refine the original summary\n",
      "If the context isn't useful, return the original summary.\u001b[0m\n",
      "\n",
      "\u001b[1m> Finished chain.\u001b[0m\n",
      "\n",
      "\n",
      "\u001b[1m> Entering new LLMChain chain...\u001b[0m\n",
      "Prompt after formatting:\n",
      "\u001b[32;1m\u001b[1;3mYour job is to produce a final summary\n",
      "We have provided an existing summary up to a certain point: \"The Selfish Giant\" by Oscar Wilde is a story about a giant who builds a high wall around his garden, preventing children from playing in it. The garden is described as a large and lovely space with beautiful flowers and trees. The children used to play in the garden every afternoon, but when the giant returns from a seven-year absence, he selfishly forbids anyone from entering and builds a high wall with a warning sign. The children are left with nowhere to play and long for the happiness they once had in the garden. Meanwhile, the rest of the country experiences the arrival of spring, but the giant's garden remains stuck in winter. The story highlights the giant's selfishness and the impact it has on the children and the garden.\n",
      "We have the opportunity to refine the existing summary(only if needed) with some more context below.\n",
      "------------\n",
      "The Selfish Giant by Oscar Wilde  \n",
      " \n",
      "Every afternoon, as they were coming from school, the children \n",
      "used to go and play in the Giant's garden.  \n",
      "     It was a large lovely garden, with soft green grass. Here and there \n",
      "over the grass stood beautiful flowers like stars, and there were twelve \n",
      "peach -trees that in the spring -time broke out into delicate blossoms of \n",
      "pink and pearl, and in the autumn bore rich fruit. The birds sat on the \n",
      "trees and sang so sweetly that the children used to stop their games in \n",
      "order to listen to them. 'How happy we are here!' they cried to each other.  \n",
      "     One day the Giant came back. He had been to visit his friend the \n",
      "Cornish ogre, and had stayed with him for seven years. After the seven \n",
      "years were  over he had said all that he had to say, for his conversation \n",
      "was limited, and he determined to return to his own castle. When he \n",
      "arrived he saw the children playing in the garden.  \n",
      "     'What are you doing here?' he cried in a very gruff voice, and the \n",
      "children ran away.  \n",
      "     'My own garden is my own garden,' said the Giant; 'any one can \n",
      "understand that, and I will allow nobody to play in it but myself.' So he \n",
      "built a high wall all round it, and put up a notice -board.  \n",
      "  \n",
      "TRESPASSERS  \n",
      "WILL BE  \n",
      "PROSECUTED  \n",
      "  \n",
      "     He was a very selfish Giant.  \n",
      "     The poor children had now nowhere to play. They tried to play on the \n",
      "road, but the road was very dusty and full of hard stones, and they did not \n",
      "like it. They used to wander round the high wall when their lessons we re \n",
      "over, and talk about the beautiful garden inside.  \n",
      "     'How happy we were there,' they said to each other.       Then the Spring came, and all over the country there were little \n",
      "blossoms and little birds. Only in the garden of the Selfish Giant it was still \n",
      "Winter. The birds did not care to sing in it as there were no children, and \n",
      "the trees forgot to blossom. Once a beautiful flower put its head out from\n",
      "------------\n",
      "Given the new context, refine the original summary\n",
      "If the context isn't useful, return the original summary.\u001b[0m\n"
     ]
    },
    {
     "name": "stdout",
     "output_type": "stream",
     "text": [
      "\n",
      "\u001b[1m> Finished chain.\u001b[0m\n",
      "\n",
      "\n",
      "\u001b[1m> Entering new LLMChain chain...\u001b[0m\n",
      "Prompt after formatting:\n",
      "\u001b[32;1m\u001b[1;3mYour job is to produce a final summary\n",
      "We have provided an existing summary up to a certain point: \"The Selfish Giant\" by Oscar Wilde is a story about a giant who builds a high wall around his garden, preventing children from playing in it. The garden is described as a large and lovely space with beautiful flowers and trees. The children used to play in the garden every afternoon, but when the giant returns from a seven-year absence, he selfishly forbids anyone from entering and builds a high wall with a warning sign. The children are left with nowhere to play and long for the happiness they once had in the garden. Meanwhile, the rest of the country experiences the arrival of spring, but the giant's garden remains stuck in winter. The story highlights the giant's selfishness and the impact it has on the children and the garden. As the children try to find other places to play, they reminisce about the beauty and joy they experienced in the giant's garden. Despite the arrival of spring in the rest of the country, the giant's garden remains in a perpetual winter, devoid of blossoms and birdsong.\n",
      "We have the opportunity to refine the existing summary(only if needed) with some more context below.\n",
      "------------\n",
      "The Selfish Giant by Oscar Wilde  \n",
      " \n",
      "Every afternoon, as they were coming from school, the children \n",
      "used to go and play in the Giant's garden.  \n",
      "     It was a large lovely garden, with soft green grass. Here and there \n",
      "over the grass stood beautiful flowers like stars, and there were twelve \n",
      "peach -trees that in the spring -time broke out into delicate blossoms of \n",
      "pink and pearl, and in the autumn bore rich fruit. The birds sat on the \n",
      "trees and sang so sweetly that the children used to stop their games in \n",
      "order to listen to them. 'How happy we are here!' they cried to each other.  \n",
      "     One day the Giant came back. He had been to visit his friend the \n",
      "Cornish ogre, and had stayed with him for seven years. After the seven \n",
      "years were  over he had said all that he had to say, for his conversation \n",
      "was limited, and he determined to return to his own castle. When he \n",
      "arrived he saw the children playing in the garden.  \n",
      "     'What are you doing here?' he cried in a very gruff voice, and the \n",
      "children ran away.  \n",
      "     'My own garden is my own garden,' said the Giant; 'any one can \n",
      "understand that, and I will allow nobody to play in it but myself.' So he \n",
      "built a high wall all round it, and put up a notice -board.  \n",
      "  \n",
      "TRESPASSERS  \n",
      "WILL BE  \n",
      "PROSECUTED  \n",
      "  \n",
      "     He was a very selfish Giant.  \n",
      "     The poor children had now nowhere to play. They tried to play on the \n",
      "road, but the road was very dusty and full of hard stones, and they did not \n",
      "like it. They used to wander round the high wall when their lessons we re \n",
      "over, and talk about the beautiful garden inside.  \n",
      "     'How happy we were there,' they said to each other.       Then the Spring came, and all over the country there were little \n",
      "blossoms and little birds. Only in the garden of the Selfish Giant it was still \n",
      "Winter. The birds did not care to sing in it as there were no children, and \n",
      "the trees forgot to blossom. Once a beautiful flower put its head out from\n",
      "------------\n",
      "Given the new context, refine the original summary\n",
      "If the context isn't useful, return the original summary.\u001b[0m\n",
      "\n",
      "\u001b[1m> Finished chain.\u001b[0m\n",
      "\n",
      "\u001b[1m> Finished chain.\u001b[0m\n"
     ]
    }
   ],
   "source": [
    "llm = ChatOpenAI(temperature=0, model_name='gpt-3.5-turbo')\n",
    "\n",
    "chain = load_summarize_chain(\n",
    "    llm=llm,\n",
    "    chain_type='refine',\n",
    "    verbose=True\n",
    ")\n",
    "output_summary = chain.run(chunks)"
   ]
  },
  {
   "cell_type": "code",
   "execution_count": 91,
   "id": "4f625242",
   "metadata": {},
   "outputs": [
    {
     "name": "stdout",
     "output_type": "stream",
     "text": [
      "\"The Selfish Giant\" by Oscar Wilde is a story about a giant who builds a high wall around his garden, preventing children from playing in it. The garden is described as a large and lovely space with beautiful flowers and trees. The children used to play in the garden every afternoon, but when the giant returns from a seven-year absence, he selfishly forbids anyone from entering and builds a high wall with a warning sign. The children are left with nowhere to play and long for the happiness they once had in the garden. Meanwhile, the rest of the country experiences the arrival of spring, but the giant's garden remains stuck in winter. The story highlights the giant's selfishness and the impact it has on the children and the garden. As the children try to find other places to play, they reminisce about the beauty and joy they experienced in the giant's garden. Despite the arrival of spring in the rest of the country, the giant's garden remains in a perpetual winter, devoid of blossoms and birdsong. The children continue to yearn for the garden's beauty, while the giant begins to realize the error of his ways.\n"
     ]
    }
   ],
   "source": [
    "print(output_summary)"
   ]
  },
  {
   "cell_type": "markdown",
   "id": "d356adb9",
   "metadata": {},
   "source": [
    "### refine With Custom Prompts"
   ]
  },
  {
   "cell_type": "code",
   "execution_count": 92,
   "id": "fdca96ca",
   "metadata": {},
   "outputs": [],
   "source": [
    "prompt_template = \"\"\"Write a concise summary of the following extracting the key information:\n",
    "Text: `{text}`\n",
    "CONCISE SUMMARY:\"\"\"\n",
    "initial_prompt = PromptTemplate(template=prompt_template, input_variables=['text'])\n",
    "\n",
    "refine_template = '''\n",
    "    Your job is to produce a final summary.\n",
    "    I have provided an existing summary up to a certain point: {existing_answer}.\n",
    "    Please refine the existing summary with some more context below.\n",
    "    ------------\n",
    "    {text}\n",
    "    ------------\n",
    "    Start the final summary with an INTRODUCTION PARAGRAPH that gives an overview of the topic FOLLOWED\n",
    "    by BULLET POINTS if possible AND end the summary with a CONCLUSION PHRASE.\n",
    "    \n",
    "'''\n",
    "refine_prompt = PromptTemplate(\n",
    "    template=refine_template,\n",
    "    input_variables=['existing_answer', 'text']\n",
    ")\n"
   ]
  },
  {
   "cell_type": "code",
   "execution_count": 94,
   "id": "dc7247a4",
   "metadata": {
    "scrolled": false
   },
   "outputs": [
    {
     "name": "stdout",
     "output_type": "stream",
     "text": [
      "Introduction:\n",
      "\"The Selfish Giant\" by Oscar Wilde tells the story of a giant who builds a high wall around his garden, preventing children from playing in it. The garden is described as a beautiful and joyful place, but the giant's selfishness leads to the children's sadness and the garden's perpetual winter. This story serves as a reminder of the importance of sharing and the consequences of selfishness. It also highlights the transformative power of love and kindness.\n",
      "\n",
      "Bullet Points:\n",
      "- Every afternoon, the children used to play in the Giant's garden, which was filled with soft green grass and beautiful flowers.\n",
      "- The garden also had twelve peach trees that blossomed in the spring and bore fruit in the autumn.\n",
      "- The birds in the garden sang so sweetly that the children would stop their games to listen.\n",
      "- However, when the Giant returned from a seven-year visit to his friend, he was angered by the children playing in his garden.\n",
      "- The Giant built a high wall around the garden and put up a notice-board, forbidding anyone from entering.\n",
      "- The children were left with nowhere to play and would wander around the high wall, reminiscing about the beautiful garden they once enjoyed.\n",
      "- Despite the arrival of spring in the rest of the country, the garden remained in perpetual winter because there were no children to bring it to life.\n",
      "- One day, a special child managed to enter the garden and brought spring back to the Giant's garden.\n",
      "- The Giant's heart softened and he realized the error of his selfish ways.\n",
      "- The Giant tore down the wall and invited the children back into his garden, where they played happily ever after.\n",
      "\n",
      "Conclusion:\n",
      "The Selfish Giant's selfishness not only deprived the children of a joyful place to play but also caused the garden to lose its beauty and vibrancy. This story serves as a reminder of the importance of sharing and the consequences of selfishness. It also highlights the transformative power of love and kindness, as the Giant's change of heart brings back the joy and life to the garden. Through the selflessness of the special child and the Giant's realization, the story teaches us the value of compassion and the ability to bring about positive change through acts of kindness.\n"
     ]
    }
   ],
   "source": [
    "chain = load_summarize_chain(\n",
    "    llm=llm,\n",
    "    chain_type='refine',\n",
    "    question_prompt=initial_prompt,\n",
    "    refine_prompt=refine_prompt,\n",
    "    return_intermediate_steps=False\n",
    "    \n",
    ")\n",
    "output_summary = chain.run(chunks)\n",
    "print(output_summary)"
   ]
  },
  {
   "cell_type": "markdown",
   "id": "ddf3b73e",
   "metadata": {},
   "source": [
    "### Summarizing Using LangChain Agents"
   ]
  },
  {
   "cell_type": "code",
   "execution_count": 96,
   "id": "1f009c7f",
   "metadata": {},
   "outputs": [],
   "source": [
    "from langchain.chat_models import ChatOpenAI\n",
    "from langchain.agents import initialize_agent, Tool\n",
    "from langchain.utilities import WikipediaAPIWrapper"
   ]
  },
  {
   "cell_type": "code",
   "execution_count": 97,
   "id": "d7a06998",
   "metadata": {},
   "outputs": [],
   "source": [
    "llm = ChatOpenAI(temperature=0, model_name='gpt-3.5-turbo')\n",
    "wikipedia = WikipediaAPIWrapper()\n",
    "\n",
    "tools = [\n",
    "    Tool(\n",
    "        name=\"Wikipedia\", \n",
    "        func=wikipedia.run,\n",
    "        description=\"Useful for when you need to get information from wikipedia about a single topic\"\n",
    "    )\n",
    "]"
   ]
  },
  {
   "cell_type": "code",
   "execution_count": 98,
   "id": "06da060e",
   "metadata": {},
   "outputs": [],
   "source": [
    "agent_executor = initialize_agent(tools, llm, agent='zero-shot-react-description', verbose=True)"
   ]
  },
  {
   "cell_type": "code",
   "execution_count": 99,
   "id": "d3b6556d",
   "metadata": {
    "scrolled": true
   },
   "outputs": [
    {
     "name": "stdout",
     "output_type": "stream",
     "text": [
      "What topic do you want a summary of?Nelson Mandela\n",
      "\n",
      "\n",
      "\u001b[1m> Entering new AgentExecutor chain...\u001b[0m\n",
      "\u001b[32;1m\u001b[1;3mI should use Wikipedia to get a short summary of Nelson Mandela.\n",
      "Action: Wikipedia\n",
      "Action Input: Nelson Mandela\u001b[0m\n",
      "Observation: \u001b[36;1m\u001b[1;3mPage: Nelson Mandela\n",
      "Summary: Nelson Rolihlahla Mandela (; Xhosa: [xolíɬaɬa mandɛ̂ːla]; born Rolihlahla Mandela; 18 July 1918 – 5 December 2013) was a South African anti-apartheid activist and politician who served as the first president of South Africa from 1994 to 1999. He was the country's first black head of state and the first elected in a fully representative democratic election. His government focused on dismantling the legacy of apartheid by fostering racial reconciliation. Ideologically an African nationalist and socialist, he served as the president of the African National Congress (ANC) party from 1991 to 1997.\n",
      "A Xhosa, Mandela was born into the Thembu royal family in Mvezo, South Africa. He studied law at the University of Fort Hare and the University of Witwatersrand before working as a lawyer in Johannesburg. There he became involved in anti-colonial and African nationalist politics, joining the ANC in 1943 and co-founding its Youth League in 1944. After the National Party's white-only government established apartheid, a system of racial segregation that privileged whites, Mandela and the ANC committed themselves to its overthrow. He was appointed president of the ANC's Transvaal branch, rising to prominence for his involvement in the 1952 Defiance Campaign and the 1955 Congress of the People. He was repeatedly arrested for seditious activities and was unsuccessfully prosecuted in the 1956 Treason Trial. Influenced by Marxism, he secretly joined the banned South African Communist Party (SACP). Although initially committed to non-violent protest, in association with the SACP he co-founded the militant uMkhonto we Sizwe in 1961 and led a sabotage campaign against the government. He was arrested and imprisoned in 1962, and, following the Rivonia Trial, was sentenced to life imprisonment for conspiring to overthrow the state.\n",
      "Mandela served 27 years in prison, split between Robben Island, Pollsmoor Prison and Victor Verster Prison. Amid growing domestic and international pressure and fears of racial civil war, President F. W. de Klerk released him in 1990. Mandela and de Klerk led efforts to negotiate an end to apartheid, which resulted in the 1994 multiracial general election in which Mandela led the ANC to victory and became president. Leading a broad coalition government which promulgated a new constitution, Mandela emphasised reconciliation between the country's racial groups and created the Truth and Reconciliation Commission to investigate past human rights abuses. Economically, his administration retained its predecessor's liberal framework despite his own socialist beliefs, also introducing measures to encourage land reform, combat poverty and expand healthcare services. Internationally, Mandela acted as mediator in the Pan Am Flight 103 bombing trial and served as secretary-general of the Non-Aligned Movement from 1998 to 1999. He declined a second presidential term and was succeeded by his deputy, Thabo Mbeki. Mandela became an elder statesman and focused on combating poverty and HIV/AIDS through the charitable Nelson Mandela Foundation.\n",
      "Mandela was a controversial figure for much of his life. Although critics on the right denounced him as a communist terrorist and those on the far left deemed him too eager to negotiate and reconcile with apartheid's supporters, he gained international acclaim for his activism. Globally regarded as an icon of democracy and social justice, he received more than 250 honours, including the Nobel Peace Prize. He is held in deep respect within South Africa, where he is often referred to by his Thembu clan name, Madiba, and described as the \"Father of the Nation\".\n",
      "\n",
      "Page: Death and state funeral of Nelson Mandela\n",
      "Summary: On 5 December 2013, Nelson Mandela, the first President of South Africa to be elected in a fully representative democratic election, as well as the country's first black head of state, died at the age of 95 after a prolonged respiratory infection. He died at arou\u001b[0m\n",
      "Thought:\u001b[32;1m\u001b[1;3mI now know the final answer.\n",
      "Final Answer: Nelson Mandela was a South African anti-apartheid activist and politician who served as the first president of South Africa from 1994 to 1999. He was the country's first black head of state and the first elected in a fully representative democratic election. He focused on dismantling the legacy of apartheid and promoting racial reconciliation. Mandela was also a controversial figure but gained international acclaim for his activism. He died on December 5, 2013, at the age of 95.\u001b[0m\n",
      "\n",
      "\u001b[1m> Finished chain.\u001b[0m\n"
     ]
    }
   ],
   "source": [
    "output = agent_executor.run(f'Can you please provide a short summary of {input(\"What topic do you want a summary of?\")}?')"
   ]
  },
  {
   "cell_type": "code",
   "execution_count": 100,
   "id": "6cf9330c",
   "metadata": {},
   "outputs": [
    {
     "name": "stdout",
     "output_type": "stream",
     "text": [
      "Nelson Mandela was a South African anti-apartheid activist and politician who served as the first president of South Africa from 1994 to 1999. He was the country's first black head of state and the first elected in a fully representative democratic election. He focused on dismantling the legacy of apartheid and promoting racial reconciliation. Mandela was also a controversial figure but gained international acclaim for his activism. He died on December 5, 2013, at the age of 95.\n"
     ]
    }
   ],
   "source": [
    "print(output)"
   ]
  },
  {
   "cell_type": "code",
   "execution_count": null,
   "id": "8f72b08b",
   "metadata": {},
   "outputs": [],
   "source": []
  }
 ],
 "metadata": {
  "kernelspec": {
   "display_name": "Python 3 (ipykernel)",
   "language": "python",
   "name": "python3"
  },
  "language_info": {
   "codemirror_mode": {
    "name": "ipython",
    "version": 3
   },
   "file_extension": ".py",
   "mimetype": "text/x-python",
   "name": "python",
   "nbconvert_exporter": "python",
   "pygments_lexer": "ipython3",
   "version": "3.11.4"
  }
 },
 "nbformat": 4,
 "nbformat_minor": 5
}
